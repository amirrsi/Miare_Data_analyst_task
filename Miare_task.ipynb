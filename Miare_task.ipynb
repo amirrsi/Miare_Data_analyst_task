{
 "cells": [
  {
   "cell_type": "code",
   "execution_count": 1,
   "id": "ec006aee",
   "metadata": {},
   "outputs": [],
   "source": [
    "import sqlite3\n",
    "import pandas as pd"
   ]
  },
  {
   "cell_type": "code",
   "execution_count": 14,
   "id": "cd1c10b8",
   "metadata": {},
   "outputs": [],
   "source": [
    "DB_PATH = '/Users/amirreisi/Downloads/miare_analyst_task.sqlite'"
   ]
  },
  {
   "cell_type": "markdown",
   "id": "0797999d",
   "metadata": {},
   "source": [
    "## Query to calculate sticked Customers Ratio"
   ]
  },
  {
   "cell_type": "code",
   "execution_count": 27,
   "id": "242585c8",
   "metadata": {},
   "outputs": [
    {
     "name": "stdout",
     "output_type": "stream",
     "text": [
      "29.4%\n"
     ]
    }
   ],
   "source": [
    "# Get the filtered DataFrame\n",
    "Sticked_customer_ratio = pd.read_sql_query(\"\"\"\n",
    "    SELECT \n",
    "        ROUND(\n",
    "            100.0 * SUM(CASE WHEN DATE(first_order_date) < DATE(signup_date, '+7 days') THEN 1 ELSE 0 END)\n",
    "            / COUNT(*)\n",
    "        , 2) AS stick_rate_percent\n",
    "    FROM customers\n",
    "\"\"\", sqlite3.connect(DB_PATH))\n",
    "stick_rate = Sticked_customer_ratio.iloc[0, 0]\n",
    "print (f\"{stick_rate}%\")"
   ]
  },
  {
   "cell_type": "markdown",
   "id": "dca19728",
   "metadata": {},
   "source": [
    "## Query to calculate sticked Driver Ratio"
   ]
  },
  {
   "cell_type": "code",
   "execution_count": 33,
   "id": "1bbd8e40",
   "metadata": {},
   "outputs": [
    {
     "name": "stdout",
     "output_type": "stream",
     "text": [
      "   total_Drivers  Sticked_drivers  Sticked_drivers_ratio\n",
      "0            500              208                   41.6\n"
     ]
    }
   ],
   "source": [
    "Sticked_driver_ratio = pd.read_sql_query(\"\"\"\n",
    "SELECT\n",
    "        COUNT(*) AS total_Drivers,\n",
    "        SUM(CASE WHEN DATE(first_trip_date) < DATE(signup_date, '+7 days') THEN 1 ELSE 0 END)\n",
    "            AS Sticked_drivers,\n",
    "        ROUND(\n",
    "            100.0 * SUM(CASE WHEN DATE(first_trip_date) < DATE(signup_date, '+7 days') THEN 1 ELSE 0 END)\n",
    "            / COUNT(*)\n",
    "        , 2) AS Sticked_drivers_ratio\n",
    "    FROM Drivers\n",
    "\"\"\", sqlite3.connect(DB_PATH))\n",
    "\n",
    "print(Sticked_driver_ratio)"
   ]
  },
  {
   "cell_type": "markdown",
   "id": "657251d6",
   "metadata": {},
   "source": [
    "## Query to Calculate Order status ratio"
   ]
  },
  {
   "cell_type": "code",
   "execution_count": 49,
   "id": "68205900",
   "metadata": {},
   "outputs": [
    {
     "name": "stdout",
     "output_type": "stream",
     "text": [
      "   total_orders  completed_pct  expired_pct  canceled_pct\n",
      "0          5000          71.12          9.8         19.08\n"
     ]
    }
   ],
   "source": [
    "Order_status_ratio = pd.read_sql_query(\"\"\"\n",
    "    SELECT\n",
    "        COUNT(*) AS total_orders,\n",
    "        ROUND(100.0 * SUM(CASE WHEN status = 'completed' THEN 1 ELSE 0 END) / COUNT(*), 2) AS completed_pct,\n",
    "        ROUND(100.0 * SUM(CASE WHEN status = 'expired'   THEN 1 ELSE 0 END) / COUNT(*), 2) AS expired_pct,\n",
    "        ROUND(100.0 * SUM(CASE WHEN status = 'canceled'  THEN 1 ELSE 0 END) / COUNT(*), 2) AS canceled_pct\n",
    "    FROM orders\n",
    "\"\"\", sqlite3.connect(DB_PATH))\n",
    "\n",
    "print(Order_status_ratio)"
   ]
  }
 ],
 "metadata": {
  "kernelspec": {
   "display_name": "Python 3",
   "language": "python",
   "name": "python3"
  },
  "language_info": {
   "codemirror_mode": {
    "name": "ipython",
    "version": 3
   },
   "file_extension": ".py",
   "mimetype": "text/x-python",
   "name": "python",
   "nbconvert_exporter": "python",
   "pygments_lexer": "ipython3",
   "version": "3.13.0"
  }
 },
 "nbformat": 4,
 "nbformat_minor": 5
}
